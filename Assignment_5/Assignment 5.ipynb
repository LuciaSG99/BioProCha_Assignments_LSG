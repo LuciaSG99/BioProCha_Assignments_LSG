{
 "cells": [
  {
   "cell_type": "markdown",
   "metadata": {},
   "source": [
    "ASSIGNMENT 5: SPARQL queries\n",
    "\n",
    "AUTHOR: **LUCÍA SÁNCHEZ GONZÁLEZ**\n"
   ]
  },
  {
   "cell_type": "code",
   "execution_count": 1,
   "metadata": {
    "scrolled": true
   },
   "outputs": [
    {
     "data": {
      "text/html": [
       "<div class=\"krn-spql\"><div class=\"magic\">Endpoint set to: https://sparql.uniprot.org/sparql</div><div class=\"magic\">Return format: JSON</div></div>"
      ],
      "text/plain": [
       "Endpoint set to: https://sparql.uniprot.org/sparql\n",
       "Return format: JSON\n"
      ]
     },
     "metadata": {},
     "output_type": "display_data"
    }
   ],
   "source": [
    "#Firstly, we must set the endpoint and the format in order to perform the queries:\n",
    "\n",
    "%endpoint https://sparql.uniprot.org/sparql\n",
    "%format JSON "
   ]
  },
  {
   "cell_type": "markdown",
   "metadata": {},
   "source": [
    "# Q1: 1 POINT  How many protein records are in UniProt? "
   ]
  },
  {
   "cell_type": "code",
   "execution_count": 2,
   "metadata": {},
   "outputs": [
    {
     "data": {
      "text/html": [
       "<div class=\"krn-spql\"><div class=\"magic\">Endpoint set to: https://sparql.uniprot.org/sparql</div><div class=\"magic\">Return format: JSON</div></div>"
      ],
      "text/plain": [
       "Endpoint set to: https://sparql.uniprot.org/sparql\n",
       "Return format: JSON\n"
      ]
     },
     "metadata": {},
     "output_type": "display_data"
    },
    {
     "data": {
      "text/html": [
       "<div class=\"krn-spql\"><table><tr class=hdr><th>protein_count</th></tr><tr class=odd><td class=val>360157660</td></tr></table><div class=\"tinfo\">Total: 1, Shown: 1</div></div>"
      ]
     },
     "metadata": {},
     "output_type": "display_data"
    }
   ],
   "source": [
    "\n",
    "PREFIX up: <http://purl.uniprot.org/core/>\n",
    "\n",
    "SELECT \n",
    "    (COUNT(?protein) AS ?protein_count)\n",
    "WHERE\n",
    "{   \n",
    "  ?protein rdf:type up:Protein .\n",
    "}\n"
   ]
  },
  {
   "cell_type": "markdown",
   "metadata": {},
   "source": [
    "# Q2: 1 POINT How many Arabidopsis thaliana protein records are in UniProt?"
   ]
  },
  {
   "cell_type": "code",
   "execution_count": 6,
   "metadata": {},
   "outputs": [
    {
     "data": {
      "text/html": [
       "<div class=\"krn-spql\"><table><tr class=hdr><th>protein_count</th></tr><tr class=odd><td class=val>136782</td></tr></table><div class=\"tinfo\">Total: 1, Shown: 1</div></div>"
      ]
     },
     "metadata": {},
     "output_type": "display_data"
    }
   ],
   "source": [
    "#### FIRST OPTION :\n",
    "# The disadvantage of this query is that you have to\n",
    "# know the code of taxon of the organism\n",
    "\n",
    "PREFIX rdfs: <http://www.w3.org/2000/01/rdf-schema#>\n",
    "PREFIX up: <http://purl.uniprot.org/core/>\n",
    "PREFIX taxon: <http://purl.uniprot.org/taxonomy/>\n",
    "\n",
    "SELECT (COUNT(DISTINCT(?protein)) AS ?protein_count)\n",
    " WHERE\n",
    "{   \n",
    "    ?protein rdf:type up:Protein ;\n",
    "        up:organism taxon:3702 .        \n",
    "}\n"
   ]
  },
  {
   "cell_type": "code",
   "execution_count": 9,
   "metadata": {},
   "outputs": [
    {
     "data": {
      "text/html": [
       "<div class=\"krn-spql\"><table><tr class=hdr><th>protein_count</th></tr><tr class=odd><td class=val>136782</td></tr></table><div class=\"tinfo\">Total: 1, Shown: 1</div></div>"
      ]
     },
     "metadata": {},
     "output_type": "display_data"
    }
   ],
   "source": [
    "#### SECOND OPTION : \n",
    "#Here it searches by the scientific name\n",
    "\n",
    "PREFIX rdfs: <http://www.w3.org/2000/01/rdf-schema#>\n",
    "PREFIX up: <http://purl.uniprot.org/core/>\n",
    "\n",
    "SELECT\n",
    "    (COUNT(DISTINCT(?protein)) AS ?protein_count)\n",
    "WHERE\n",
    "{   \n",
    "    ?protein rdf:type up:Protein ;\n",
    "        up:organism ?taxon .\n",
    "    ?taxon rdf:type up:Taxon ;\n",
    "       up:scientificName \"Arabidopsis thaliana\" .        \n",
    "}\n"
   ]
  },
  {
   "cell_type": "markdown",
   "metadata": {},
   "source": [
    "# Q3: 1 POINT retrieve pictures of Arabidopsis thaliana from UniProt? \n",
    "\n",
    "Here I used the property foaf:depiction, in which every value is a image."
   ]
  },
  {
   "cell_type": "code",
   "execution_count": 11,
   "metadata": {},
   "outputs": [
    {
     "data": {
      "text/html": [
       "<div class=\"krn-spql\"><table><tr class=hdr><th>picture</th></tr><tr class=odd><td class=val><a href=\"https://upload.wikimedia.org/wikipedia/commons/3/39/Arabidopsis.jpg\" target=\"_other\">https://upload.wikimedia.org/wikipedia/commons/3/39/Arabidopsis.jpg</a></td></tr><tr class=even><td class=val><a href=\"https://upload.wikimedia.org/wikipedia/commons/thumb/6/60/Arabidopsis_thaliana_inflorescencias.jpg/800px-Arabidopsis_thaliana_inflorescencias.jpg\" target=\"_other\">https://upload.wikimedia.org/wikipedia/commons/thumb/6/60/Arabidopsis_thaliana_inflorescencias.jpg/800px-Arabidopsis_thaliana_inflorescencias.jpg</a></td></tr></table><div class=\"tinfo\">Total: 2, Shown: 2</div></div>"
      ]
     },
     "metadata": {},
     "output_type": "display_data"
    }
   ],
   "source": [
    "PREFIX foaf: <http://xmlns.com/foaf/0.1/>\n",
    "PREFIX up: <http://purl.uniprot.org/core/>\n",
    "\n",
    "SELECT ?picture\n",
    "WHERE\n",
    "{\n",
    "   ?taxon rdf:type up:Taxon ;\n",
    "       up:scientificName \"Arabidopsis thaliana\" ;\n",
    "       foaf:depiction  ?picture .\n",
    "                \n",
    "}"
   ]
  },
  {
   "cell_type": "markdown",
   "metadata": {},
   "source": [
    "# Q4:  1 POINT  What is the description of the enzyme activity of UniProt Protein Q9SZZ8\n",
    "\n",
    "Using the prefix of UniProt Knowledgebase we can obtain the information of the protein Q9SZZ8. "
   ]
  },
  {
   "cell_type": "code",
   "execution_count": 12,
   "metadata": {},
   "outputs": [
    {
     "data": {
      "text/html": [
       "<div class=\"krn-spql\"><table><tr class=hdr><th>description</th></tr><tr class=odd><td class=val>Beta-carotene + 4 reduced ferredoxin [iron-sulfur] cluster + 2 H(+) + 2 O(2) = zeaxanthin + 4 oxidized ferredoxin [iron-sulfur] cluster + 2 H(2)O.</td></tr></table><div class=\"tinfo\">Total: 1, Shown: 1</div></div>"
      ]
     },
     "metadata": {},
     "output_type": "display_data"
    }
   ],
   "source": [
    "PREFIX up:<http://purl.uniprot.org/core/> \n",
    "PREFIX uniprotkb:<http://purl.uniprot.org/uniprot/> \n",
    "PREFIX rdfs:<http://www.w3.org/2000/01/rdf-schema#> \n",
    "PREFIX label:<http://www.w3.org/2004/02/skos/core#>\n",
    "\n",
    "SELECT ?description\n",
    "WHERE\n",
    "{\n",
    "  uniprotkb:Q9SZZ8 rdf:type up:Protein ;\n",
    "          up:enzyme ?enzyme . \n",
    "  ?enzyme up:activity ?enzyme_activity . \n",
    "  ?enzyme_activity rdfs:label ?description . \n",
    "                 \n",
    "}\n"
   ]
  },
  {
   "cell_type": "markdown",
   "metadata": {},
   "source": [
    "# Q5: 1 POINT  Retrieve the proteins ids, and date of submission, for proteins that have been added to UniProt this year.\n",
    "\n",
    "If I run this query in the Uniprot SPARQL web page it works correctly, but when I try to run in the jupyter notebook it returns the following error: \"Error: Query processing error: [Errno 104] Connection reset by peer\". So in order to show the results, I include a picture of the results from the SPARQL page, called \"dates_protein_id.png\". \n",
    "\n",
    "This answer is inspired in: https://stackoverflow.com/questions/24051435/filter-by-date-range-in-sparql\n",
    "\n",
    "To obtain the protein ids and the dates of this year I filtered this data translating the data into the standard date time format xsd:dateTime. "
   ]
  },
  {
   "cell_type": "code",
   "execution_count": 3,
   "metadata": {},
   "outputs": [
    {
     "data": {
      "text/html": [
       "<div class=\"krn-spql\"><div class=\"krn-error\"><span class=\"title\">Error:</span> Query processing error: [Errno 104] Connection reset by peer</div></div>"
      ],
      "text/plain": [
       "Error: Query processing error: [Errno 104] Connection reset by peer"
      ]
     },
     "metadata": {},
     "output_type": "display_data"
    }
   ],
   "source": [
    "PREFIX up: <http://purl.uniprot.org/core/>\n",
    "PREFIX xsd: <http://www.w3.org/2001/XMLSchema#>\n",
    "PREFIX rdfs:<http://www.w3.org/2000/01/rdf-schema#> \n",
    "\n",
    "SELECT ?protein_id ?date_submission\n",
    "WHERE\n",
    "{\n",
    "    ?protein rdf:type up:Protein .\n",
    "    ?protein up:mnemonic ?protein_id .\n",
    "    ?protein up:created ?date_submission  .\n",
    "    FILTER (?date_submission > \"2021-01-01T10:00:00+00:00\"^^xsd:dateTime)\n",
    "             \n",
    "}\n"
   ]
  },
  {
   "cell_type": "markdown",
   "metadata": {},
   "source": [
    "# Q6: 1 POINT How  many species are in the UniProt taxonomy?\n",
    "\n",
    "I used the object property up:rank which returns the rank of a taxon, in this case, the rank of the species. "
   ]
  },
  {
   "cell_type": "code",
   "execution_count": 2,
   "metadata": {},
   "outputs": [
    {
     "data": {
      "text/html": [
       "<div class=\"krn-spql\"><table><tr class=hdr><th>count_taxon</th></tr><tr class=odd><td class=val>2029846</td></tr></table><div class=\"tinfo\">Total: 1, Shown: 1</div></div>"
      ]
     },
     "metadata": {},
     "output_type": "display_data"
    }
   ],
   "source": [
    "PREFIX up: <http://purl.uniprot.org/core/>\n",
    "PREFIX rdfs:<http://www.w3.org/2000/01/rdf-schema#> \n",
    "\n",
    "SELECT \n",
    "(COUNT (DISTINCT ?specie_taxon) AS ?count_taxon)\n",
    "\n",
    "WHERE\n",
    "{\n",
    "  ?specie_taxon rdf:type up:Taxon;\n",
    "          up:rank up:Species .\n",
    "}\n"
   ]
  },
  {
   "cell_type": "markdown",
   "metadata": {},
   "source": [
    "# Q7: 2 POINT  How many species have at least one protein record? \n",
    "\n",
    "From all the species of the Uniprot taxonomy (see previous query), retrieve those that have at least one protein. "
   ]
  },
  {
   "cell_type": "code",
   "execution_count": 13,
   "metadata": {},
   "outputs": [
    {
     "data": {
      "text/html": [
       "<div class=\"krn-spql\"><table><tr class=hdr><th>count_species</th></tr><tr class=odd><td class=val>1057158</td></tr></table><div class=\"tinfo\">Total: 1, Shown: 1</div></div>"
      ]
     },
     "metadata": {},
     "output_type": "display_data"
    }
   ],
   "source": [
    "PREFIX up: <http://purl.uniprot.org/core/>\n",
    "PREFIX rdfs:<http://www.w3.org/2000/01/rdf-schema#> \n",
    "\n",
    "SELECT (COUNT (DISTINCT ?specie_rank) AS ?count_species)\n",
    "\n",
    "WHERE\n",
    "{\n",
    "  ?protein rdf:type up:Protein ;\n",
    "    up:organism ?specie_rank .\n",
    "  ?specie_rank rdf:type up:Taxon;\n",
    "          up:rank up:Species .\n",
    "  \n",
    "}\n"
   ]
  },
  {
   "cell_type": "markdown",
   "metadata": {},
   "source": [
    "# Q8: 3 points:  find the AGI codes and gene names for all Arabidopsis thaliana  proteins that have a protein function annotation description that mentions “pattern formation”\n",
    "\n",
    "To retrieve the gene name and the AGI code, I used the object property \"encodedBy\" which retrieves the gene by which a protein is encoded. Then to retrieve the AGI code I used the object property of the class Gene locusName; then I employed the property prefLabel to obtained the gene name. Finally I used the functions FILTER and contains to look for those that contains the words \"pattern formation\" in the function annotation description."
   ]
  },
  {
   "cell_type": "code",
   "execution_count": 15,
   "metadata": {},
   "outputs": [
    {
     "data": {
      "text/html": [
       "<div class=\"krn-spql\"><table><tr class=hdr><th>agi_code</th>\n",
       "<th>gene_names</th></tr><tr class=odd><td class=val>At3g54220</td>\n",
       "<td class=val>SCR</td></tr><tr class=even><td class=val>At4g21750</td>\n",
       "<td class=val>ATML1</td></tr><tr class=odd><td class=val>At1g13980</td>\n",
       "<td class=val>GN</td></tr><tr class=even><td class=val>At5g40260</td>\n",
       "<td class=val>SWEET8</td></tr><tr class=odd><td class=val>At1g69670</td>\n",
       "<td class=val>CUL3B</td></tr><tr class=even><td class=val>At1g63700</td>\n",
       "<td class=val>YDA</td></tr><tr class=odd><td class=val>At2g46710</td>\n",
       "<td class=val>ROPGAP3</td></tr><tr class=even><td class=val>At1g26830</td>\n",
       "<td class=val>CUL3A</td></tr><tr class=odd><td class=val>At3g09090</td>\n",
       "<td class=val>DEX1</td></tr><tr class=even><td class=val>At4g37650</td>\n",
       "<td class=val>SHR</td></tr><tr class=odd><td class=val>At5g55250</td>\n",
       "<td class=val>IAMT1</td></tr><tr class=even><td class=val>At3g02130</td>\n",
       "<td class=val>RPK2</td></tr><tr class=odd><td class=val>At2g42580</td>\n",
       "<td class=val>TTL3</td></tr><tr class=even><td class=val>At1g69270</td>\n",
       "<td class=val>RPK1</td></tr><tr class=odd><td class=val>At5g02010</td>\n",
       "<td class=val>ROPGEF7</td></tr><tr class=even><td class=val>At1g66470</td>\n",
       "<td class=val>RHD6</td></tr><tr class=odd><td class=val>At5g37800</td>\n",
       "<td class=val>RSL1</td></tr></table><div class=\"tinfo\">Total: 17, Shown: 17</div></div>"
      ]
     },
     "metadata": {},
     "output_type": "display_data"
    }
   ],
   "source": [
    "PREFIX up: <http://purl.uniprot.org/core/>\n",
    "PREFIX rdfs:<http://www.w3.org/2000/01/rdf-schema#> \n",
    "PREFIX skos: <http://www.w3.org/2004/02/skos/core#>\n",
    "\n",
    "SELECT ?agi_code ?gene_names\n",
    "WHERE\n",
    "{\n",
    "    ?protein rdf:type up:Protein ;\n",
    "        up:encodedBy ?genes ;\n",
    "        up:annotation ?annotation ;       \n",
    "            up:organism ?taxon . \n",
    "        \n",
    "    ?taxon rdf:type up:Taxon ;\n",
    "        up:scientificName \"Arabidopsis thaliana\" .\n",
    "  \n",
    "    ?genes rdf:type up:Gene ;\n",
    "        up:locusName ?agi_code ;\n",
    "        skos:prefLabel ?gene_names .    \n",
    "    ?annotation rdf:type up:Function_Annotation ;\n",
    "                      rdfs:comment ?description .\n",
    "  FILTER (contains(?description, \"pattern formation\")) .\n",
    "\n",
    "}\n"
   ]
  },
  {
   "cell_type": "markdown",
   "metadata": {},
   "source": [
    "# Q9: 4 POINTS:  what is the MetaNetX Reaction identifier (starts with “mnxr”) for the UniProt Protein uniprotkb:Q18A79\n",
    "\n",
    "This query is based in the query example number 12 from the MetaNetX SPARQL web page:\n"
   ]
  },
  {
   "cell_type": "code",
   "execution_count": 4,
   "metadata": {},
   "outputs": [
    {
     "data": {
      "text/html": [
       "<div class=\"krn-spql\"><div class=\"magic\">Endpoint set to: https://rdf.metanetx.org/sparql</div><div class=\"magic\">Return format: JSON</div></div>"
      ],
      "text/plain": [
       "Endpoint set to: https://rdf.metanetx.org/sparql\n",
       "Return format: JSON\n"
      ]
     },
     "metadata": {},
     "output_type": "display_data"
    }
   ],
   "source": [
    "#From the MetaNetX metabolic networks for metagenomics database SPARQL: \n",
    "%endpoint https://rdf.metanetx.org/sparql\n",
    "%format JSON "
   ]
  },
  {
   "cell_type": "code",
   "execution_count": 5,
   "metadata": {},
   "outputs": [
    {
     "data": {
      "text/html": [
       "<div class=\"krn-spql\"><table><tr class=hdr><th>identifier_mnxr</th></tr><tr class=odd><td class=val>mnxr165934</td></tr><tr class=even><td class=val>mnxr145046c3</td></tr></table><div class=\"tinfo\">Total: 2, Shown: 2</div></div>"
      ]
     },
     "metadata": {},
     "output_type": "display_data"
    }
   ],
   "source": [
    "PREFIX mnx: <https://rdf.metanetx.org/schema/>\n",
    "PREFIX rdf: <http://www.w3.org/1999/02/22-rdf-syntax-ns#>\n",
    "PREFIX rdfs: <http://www.w3.org/2000/01/rdf-schema#>\n",
    "PREFIX up: <http://purl.uniprot.org/uniprot/>\n",
    "\n",
    "SELECT DISTINCT ?identifier_mnxr\n",
    "WHERE {\n",
    "    \n",
    "    ?protein rdf:type mnx:PEPT .\n",
    "    ?protein mnx:peptXref up:Q18A79 .\n",
    "\n",
    "    ?catalyst mnx:pept ?protein ;\n",
    "         mnx:pept ?protein .\n",
    "\n",
    "    ?gene_prot_r mnx:cata ?catalyst ;\n",
    "         mnx:cata ?catalyst ;\n",
    "         mnx:reac ?reaction .\n",
    "\n",
    "    ?reaction rdfs:label ?identifier_mnxr .\n",
    "}\n"
   ]
  },
  {
   "cell_type": "markdown",
   "metadata": {},
   "source": [
    "# Q10: 5 POINTS:  What is the official Gene ID (UniProt calls this a “mnemonic”) and the MetaNetX Reaction identifier (mnxr…..) for the protein that has “Starch synthase” catalytic activity in Clostridium difficile (taxon 272563).\n",
    "\n",
    "This answer is based on the query example answer nº23 of the Uniprot SPARQL web page and the previous query. To search for protein that have \"Starch synthase\" catalytic activity I look for the code of the GO term of the Starch synthase (GO:0009011).  \n",
    "\n"
   ]
  },
  {
   "cell_type": "code",
   "execution_count": 7,
   "metadata": {},
   "outputs": [
    {
     "data": {
      "text/html": [
       "<div class=\"krn-spql\"><div class=\"magic\">Endpoint set to: https://sparql.uniprot.org/sparql</div><div class=\"magic\">Return format: JSON</div></div>"
      ],
      "text/plain": [
       "Endpoint set to: https://sparql.uniprot.org/sparql\n",
       "Return format: JSON\n"
      ]
     },
     "metadata": {},
     "output_type": "display_data"
    }
   ],
   "source": [
    "%endpoint https://sparql.uniprot.org/sparql\n",
    "%format JSON "
   ]
  },
  {
   "cell_type": "code",
   "execution_count": 9,
   "metadata": {},
   "outputs": [
    {
     "data": {
      "text/html": [
       "<div class=\"krn-spql\"><table><tr class=hdr><th>gene_id</th>\n",
       "<th>identifier_mnxr</th></tr><tr class=odd><td class=val>GLGA_CLOD6</td>\n",
       "<td class=val>mnxr145046c3</td></tr><tr class=even><td class=val>GLGA_CLOD6</td>\n",
       "<td class=val>mnxr165934</td></tr></table><div class=\"tinfo\">Total: 2, Shown: 2</div></div>"
      ]
     },
     "metadata": {},
     "output_type": "display_data"
    }
   ],
   "source": [
    "PREFIX up: <http://purl.uniprot.org/core/>\n",
    "PREFIX rdfs:<http://www.w3.org/2000/01/rdf-schema#>\n",
    "PREFIX taxon: <http://purl.uniprot.org/taxonomy/>\n",
    "PREFIX GO: <http://purl.obolibrary.org/obo/GO_>\n",
    "PREFIX mnx: <https://rdf.metanetx.org/schema/>\n",
    "\n",
    "SELECT ?gene_id ?identifier_mnxr\n",
    "\n",
    "WHERE\n",
    "{\n",
    "  ?protein rdf:type up:Protein ;\n",
    "    up:organism  taxon:272563 ;\n",
    "    up:mnemonic ?gene_id ;\n",
    "    up:classifiedWith GO:0009011 .\n",
    "   \n",
    "  SERVICE <https://rdf.metanetx.org/sparql> {\n",
    "      ?prot2 rdf:type mnx:PEPT ;\n",
    "         mnx:peptXref ?protein .\n",
    "      \n",
    "      ?catalyst mnx:pept ?prot2 ;\n",
    "         mnx:pept ?prot2 .\n",
    "      \n",
    "      ?gene_prot_r mnx:cata ?catalyst ;\n",
    "         mnx:cata ?catalyst ;\n",
    "         mnx:reac ?reaction .\n",
    "      ?reaction rdfs:label ?identifier_mnxr .\n",
    " }\n",
    "\n",
    "} GROUP BY ?gene_id ?identifier_mnxr\n"
   ]
  }
 ],
 "metadata": {
  "kernelspec": {
   "display_name": "SPARQL",
   "language": "sparql",
   "name": "sparql"
  },
  "language_info": {
   "codemirror_mode": {
    "name": "sparql"
   },
   "mimetype": "application/sparql-query",
   "name": "sparql",
   "pygments_lexer": "sparql-nb"
  }
 },
 "nbformat": 4,
 "nbformat_minor": 2
}
