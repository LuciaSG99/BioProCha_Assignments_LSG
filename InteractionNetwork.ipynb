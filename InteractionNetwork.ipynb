{
 "cells": [
  {
   "cell_type": "code",
   "execution_count": null,
   "metadata": {},
   "outputs": [],
   "source": [
    "class InteractionNetwork\n",
    "#contains the members of each network. Osea, que cada network es un objeto de esta clase¿?\n",
    "\n",
    "  attr_accessor : genes_involve\n",
    "  \n",
    "  \n",
    "  def initialize(params)\n",
    "    @genes_involve = params.fetch(:genes_involve,Array.new(0))\n",
    "  end\n",
    "    \n",
    "  \n",
    "  def search_interaction()\n",
    "  \n",
    "  \n",
    "  end\n",
    "\n",
    "end "
   ]
  }
 ],
 "metadata": {
  "kernelspec": {
   "display_name": "Ruby 2.5.1",
   "language": "ruby",
   "name": "ruby"
  },
  "language_info": {
   "file_extension": ".rb",
   "mimetype": "application/x-ruby",
   "name": "ruby",
   "version": "2.5.1"
  }
 },
 "nbformat": 4,
 "nbformat_minor": 2
}
